{
 "cells": [
  {
   "cell_type": "code",
   "execution_count": 1,
   "outputs": [],
   "source": [
    "import numpy as np\n",
    "import torch\n",
    "from bin import representation_geometry\n",
    "import nibabel as nib\n",
    "import pandas as pd\n",
    "torch.cuda.empty_cache()\n"
   ],
   "metadata": {
    "collapsed": false,
    "pycharm": {
     "name": "#%%\n"
    }
   }
  },
  {
   "cell_type": "code",
   "execution_count": 2,
   "outputs": [],
   "source": [
    "shape_color_attention_niis = [\"/home/spencer/Projects/monkey_fmri/MTurk1/misc_testing_files/shapecolorlow_runs/reg_run_beta_2.nii.gz\",\n",
    "                              \"/home/spencer/Projects/monkey_fmri/MTurk1/misc_testing_files/shapecolorlow_runs/reg_run_beta_3.nii.gz\",\n",
    "                              \"/home/spencer/Projects/monkey_fmri/MTurk1/misc_testing_files/shapecolorlow_runs/reg_run_beta_4.nii.gz\",\n",
    "                              \"/home/spencer/Projects/monkey_fmri/MTurk1/misc_testing_files/shapecolorlow_runs/reg_run_beta_5.nii.gz\"\n",
    "                              ]\n",
    "atlas_nii = nib.load(\"/home/spencer/Projects/monkey_fmri/MTurk1/D99_v2.0_dist/simplified_atlas.nii\")\n",
    "lookup = pd.read_csv(\"/home/spencer/Projects/monkey_fmri/MTurk1/D99_v2.0_dist/simplified_color_map.txt\", header=1, index_col=0, delimiter='\\t')"
   ],
   "metadata": {
    "collapsed": false,
    "pycharm": {
     "name": "#%%\n"
    }
   }
  },
  {
   "cell_type": "code",
   "execution_count": 3,
   "outputs": [],
   "source": [
    "color_betas = []\n",
    "achrom_color_betas = []\n",
    "achrom_betas = []\n",
    "\n",
    "for nii_path in shape_color_attention_niis:\n",
    "    run_beta = nib.load(nii_path).get_fdata()\n",
    "    # break the beta into different datasets\n",
    "    color_betas.append(run_beta[:, :, :, 1:8])\n",
    "    achrom_color_betas.append(run_beta[:, :, :, 8:15])\n",
    "    achrom_betas.append(run_beta[:, :, :, 15:22])\n",
    "\n",
    "color_betas = torch.from_numpy(np.concatenate(color_betas, axis=3))\n",
    "achrom_betas = torch.from_numpy(np.concatenate(achrom_betas, axis=3))\n",
    "achrom_color_betas = torch.from_numpy(np.concatenate(achrom_color_betas, axis=3))\n",
    "\n",
    "atlas = torch.round(torch.from_numpy(atlas_nii.get_fdata())).int()"
   ],
   "metadata": {
    "collapsed": false,
    "pycharm": {
     "name": "#%%\n"
    }
   }
  },
  {
   "cell_type": "code",
   "execution_count": 4,
   "outputs": [],
   "source": [
    "targets = torch.tile(torch.arange(7), (4,))\n",
    "lookup_dict = {idx.item():lookup.loc[idx.item()]['Label Name:'] for i, idx in enumerate(torch.unique(atlas)[1:])}"
   ],
   "metadata": {
    "collapsed": false,
    "pycharm": {
     "name": "#%%\n"
    }
   }
  },
  {
   "cell_type": "code",
   "execution_count": null,
   "outputs": [],
   "source": [
    "sd = representation_geometry.ROIDecoder(atlas, lookup_dict, out_dim=7)"
   ],
   "metadata": {
    "collapsed": false,
    "pycharm": {
     "name": "#%%\n"
    }
   }
  },
  {
   "cell_type": "code",
   "execution_count": null,
   "outputs": [],
   "source": [
    "sd.fit(achrom_color_betas, targets, optim_threshold=1e-9, cutoff_epoch=10000)"
   ],
   "metadata": {
    "collapsed": false,
    "pycharm": {
     "name": "#%%\n"
    }
   }
  },
  {
   "cell_type": "code",
   "execution_count": null,
   "outputs": [],
   "source": [
    "res = sd.predict(color_betas, targets)"
   ],
   "metadata": {
    "collapsed": false,
    "pycharm": {
     "name": "#%%\n"
    }
   }
  },
  {
   "cell_type": "code",
   "execution_count": 5,
   "outputs": [],
   "source": [
    "# now try searchlight\n",
    "searchlight = representation_geometry.SearchLightDecoder(None, None, 7, kernel=5, dev='cuda:0')"
   ],
   "metadata": {
    "collapsed": false,
    "pycharm": {
     "name": "#%%\n"
    }
   }
  },
  {
   "cell_type": "code",
   "execution_count": 35,
   "outputs": [],
   "source": [
    "# load from pickle\n",
    "import pickle as pkl\n",
    "searchlight = pkl.load(open('../MTurk1/misc_testing_files/searchlight_decode_uncolored_shapes_20000weird.pkl', 'rb'))"
   ],
   "metadata": {
    "collapsed": false,
    "pycharm": {
     "name": "#%%\n"
    }
   }
  },
  {
   "cell_type": "code",
   "execution_count": 35,
   "outputs": [],
   "source": [],
   "metadata": {
    "collapsed": false,
    "pycharm": {
     "name": "#%%\n"
    }
   }
  },
  {
   "cell_type": "code",
   "execution_count": null,
   "outputs": [
    {
     "name": "stdout",
     "output_type": "stream",
     "text": [
      "128\n",
      "torch.Size([28, 1, 128, 128, 128])\n",
      "2\n",
      "CE on epoch 0 is tensor(7.8866)\n",
      "CE on epoch 1 is tensor(7.8848)\n",
      "CE on epoch 2 is tensor(7.8833)\n",
      "CE on epoch 3 is tensor(7.8817)\n",
      "CE on epoch 4 is tensor(7.8804)\n",
      "CE on epoch 5 is tensor(7.8795)\n",
      "CE on epoch 6 is tensor(7.8783)\n",
      "CE on epoch 7 is tensor(7.8770)\n",
      "CE on epoch 8 is tensor(7.8761)\n",
      "CE on epoch 9 is tensor(7.8752)\n",
      "CE on epoch 10 is tensor(7.8743)\n",
      "CE on epoch 11 is tensor(7.8734)\n",
      "CE on epoch 12 is tensor(7.8726)\n",
      "CE on epoch 13 is tensor(7.8719)\n",
      "CE on epoch 14 is tensor(7.8710)\n",
      "CE on epoch 15 is tensor(7.8704)\n",
      "CE on epoch 16 is tensor(7.8695)\n",
      "CE on epoch 17 is tensor(7.8689)\n",
      "CE on epoch 18 is tensor(7.8682)\n",
      "CE on epoch 19 is tensor(7.8675)\n",
      "CE on epoch 20 is tensor(7.8668)\n",
      "CE on epoch 21 is tensor(7.8661)\n",
      "CE on epoch 22 is tensor(7.8656)\n",
      "CE on epoch 23 is tensor(7.8650)\n",
      "CE on epoch 24 is tensor(7.8644)\n",
      "CE on epoch 25 is tensor(7.8639)\n",
      "CE on epoch 26 is tensor(7.8634)\n",
      "CE on epoch 27 is tensor(7.8628)\n",
      "CE on epoch 28 is tensor(7.8622)\n",
      "CE on epoch 29 is tensor(7.8618)\n",
      "CE on epoch 30 is tensor(7.8613)\n",
      "CE on epoch 31 is tensor(7.8609)\n",
      "CE on epoch 32 is tensor(7.8603)\n",
      "CE on epoch 33 is tensor(7.8599)\n",
      "CE on epoch 34 is tensor(7.8595)\n",
      "CE on epoch 35 is tensor(7.8591)\n",
      "CE on epoch 36 is tensor(7.8586)\n",
      "CE on epoch 37 is tensor(7.8582)\n",
      "CE on epoch 38 is tensor(7.8577)\n",
      "CE on epoch 39 is tensor(7.8574)\n",
      "CE on epoch 40 is tensor(7.8570)\n",
      "CE on epoch 41 is tensor(7.8567)\n",
      "CE on epoch 42 is tensor(7.8563)\n",
      "CE on epoch 43 is tensor(7.8559)\n",
      "CE on epoch 44 is tensor(7.8555)\n",
      "CE on epoch 45 is tensor(7.8552)\n",
      "CE on epoch 46 is tensor(7.8549)\n",
      "CE on epoch 47 is tensor(7.8546)\n",
      "CE on epoch 48 is tensor(7.8542)\n",
      "CE on epoch 49 is tensor(7.8539)\n",
      "CE on epoch 50 is tensor(7.8536)\n",
      "CE on epoch 51 is tensor(7.8534)\n",
      "CE on epoch 52 is tensor(7.8531)\n",
      "CE on epoch 53 is tensor(7.8527)\n",
      "CE on epoch 54 is tensor(7.8525)\n",
      "CE on epoch 55 is tensor(7.8522)\n",
      "CE on epoch 56 is tensor(7.8519)\n",
      "CE on epoch 57 is tensor(7.8517)\n",
      "CE on epoch 58 is tensor(7.8514)\n",
      "CE on epoch 59 is tensor(7.8512)\n",
      "CE on epoch 60 is tensor(7.8509)\n",
      "CE on epoch 61 is tensor(7.8507)\n",
      "CE on epoch 62 is tensor(7.8505)\n",
      "CE on epoch 63 is tensor(7.8502)\n",
      "CE on epoch 64 is tensor(7.8500)\n",
      "CE on epoch 65 is tensor(7.8498)\n",
      "CE on epoch 66 is tensor(7.8495)\n",
      "CE on epoch 67 is tensor(7.8493)\n",
      "CE on epoch 68 is tensor(7.8491)\n",
      "CE on epoch 69 is tensor(7.8489)\n",
      "CE on epoch 70 is tensor(7.8487)\n",
      "CE on epoch 71 is tensor(7.8485)\n",
      "CE on epoch 72 is tensor(7.8482)\n",
      "CE on epoch 73 is tensor(7.8480)\n",
      "CE on epoch 74 is tensor(7.8479)\n",
      "CE on epoch 75 is tensor(7.8477)\n",
      "CE on epoch 76 is tensor(7.8475)\n",
      "CE on epoch 77 is tensor(7.8473)\n",
      "CE on epoch 78 is tensor(7.8471)\n",
      "CE on epoch 79 is tensor(7.8469)\n",
      "CE on epoch 80 is tensor(7.8468)\n",
      "CE on epoch 81 is tensor(7.8466)\n",
      "CE on epoch 82 is tensor(7.8464)\n",
      "CE on epoch 83 is tensor(7.8462)\n",
      "CE on epoch 84 is tensor(7.8461)\n",
      "CE on epoch 85 is tensor(7.8459)\n",
      "CE on epoch 86 is tensor(7.8457)\n",
      "CE on epoch 87 is tensor(7.8456)\n",
      "CE on epoch 88 is tensor(7.8454)\n",
      "CE on epoch 89 is tensor(7.8453)\n",
      "CE on epoch 90 is tensor(7.8451)\n",
      "CE on epoch 91 is tensor(7.8450)\n",
      "CE on epoch 92 is tensor(7.8448)\n",
      "CE on epoch 93 is tensor(7.8447)\n",
      "CE on epoch 94 is tensor(7.8445)\n",
      "CE on epoch 95 is tensor(7.8444)\n",
      "CE on epoch 96 is tensor(7.8442)\n",
      "CE on epoch 97 is tensor(7.8441)\n",
      "CE on epoch 98 is tensor(7.8440)\n",
      "CE on epoch 99 is tensor(7.8438)\n",
      "CE on epoch 100 is tensor(7.8437)\n",
      "CE on epoch 101 is tensor(7.8435)\n",
      "CE on epoch 102 is tensor(7.8434)\n",
      "CE on epoch 103 is tensor(7.8433)\n",
      "CE on epoch 104 is tensor(7.8432)\n",
      "CE on epoch 105 is tensor(7.8431)\n",
      "CE on epoch 106 is tensor(7.8429)\n",
      "CE on epoch 107 is tensor(7.8428)\n",
      "CE on epoch 108 is tensor(7.8427)\n",
      "CE on epoch 109 is tensor(7.8425)\n",
      "CE on epoch 110 is tensor(7.8424)\n",
      "CE on epoch 111 is tensor(7.8423)\n",
      "CE on epoch 112 is tensor(7.8422)\n",
      "CE on epoch 113 is tensor(7.8421)\n",
      "CE on epoch 114 is tensor(7.8420)\n",
      "CE on epoch 115 is tensor(7.8418)\n",
      "CE on epoch 116 is tensor(7.8417)\n",
      "CE on epoch 117 is tensor(7.8416)\n",
      "CE on epoch 118 is tensor(7.8415)\n",
      "CE on epoch 119 is tensor(7.8414)\n",
      "CE on epoch 120 is tensor(7.8413)\n",
      "CE on epoch 121 is tensor(7.8412)\n",
      "CE on epoch 122 is tensor(7.8411)\n",
      "CE on epoch 123 is tensor(7.8410)\n",
      "CE on epoch 124 is tensor(7.8409)\n",
      "CE on epoch 125 is tensor(7.8408)\n",
      "CE on epoch 126 is tensor(7.8407)\n",
      "CE on epoch 127 is tensor(7.8406)\n",
      "CE on epoch 128 is tensor(7.8405)\n",
      "CE on epoch 129 is tensor(7.8404)\n",
      "CE on epoch 130 is tensor(7.8403)\n",
      "CE on epoch 131 is tensor(7.8402)\n",
      "CE on epoch 132 is tensor(7.8401)\n",
      "CE on epoch 133 is tensor(7.8401)\n",
      "CE on epoch 134 is tensor(7.8399)\n",
      "CE on epoch 135 is tensor(7.8398)\n",
      "CE on epoch 136 is tensor(7.8398)\n",
      "CE on epoch 137 is tensor(7.8396)\n",
      "CE on epoch 138 is tensor(7.8396)\n",
      "CE on epoch 139 is tensor(7.8395)\n",
      "CE on epoch 140 is tensor(7.8394)\n",
      "CE on epoch 141 is tensor(7.8393)\n",
      "CE on epoch 142 is tensor(7.8392)\n",
      "CE on epoch 143 is tensor(7.8391)\n",
      "CE on epoch 144 is tensor(7.8391)\n",
      "CE on epoch 145 is tensor(7.8390)\n",
      "CE on epoch 146 is tensor(7.8389)\n",
      "CE on epoch 147 is tensor(7.8388)\n",
      "CE on epoch 148 is tensor(7.8387)\n",
      "CE on epoch 149 is tensor(7.8387)\n",
      "CE on epoch 150 is tensor(7.8385)\n",
      "CE on epoch 151 is tensor(7.8385)\n",
      "CE on epoch 152 is tensor(7.8384)\n",
      "CE on epoch 153 is tensor(7.8384)\n",
      "CE on epoch 154 is tensor(7.8382)\n",
      "CE on epoch 155 is tensor(7.8382)\n",
      "CE on epoch 156 is tensor(7.8381)\n",
      "CE on epoch 157 is tensor(7.8380)\n",
      "CE on epoch 158 is tensor(7.8379)\n",
      "CE on epoch 159 is tensor(7.8379)\n",
      "CE on epoch 160 is tensor(7.8378)\n",
      "CE on epoch 161 is tensor(7.8377)\n",
      "CE on epoch 162 is tensor(7.8377)\n",
      "CE on epoch 163 is tensor(7.8376)\n",
      "CE on epoch 164 is tensor(7.8375)\n",
      "CE on epoch 165 is tensor(7.8374)\n",
      "CE on epoch 166 is tensor(7.8373)\n",
      "CE on epoch 167 is tensor(7.8373)\n",
      "CE on epoch 168 is tensor(7.8372)\n",
      "CE on epoch 169 is tensor(7.8371)\n",
      "CE on epoch 170 is tensor(7.8371)\n",
      "CE on epoch 171 is tensor(7.8371)\n",
      "CE on epoch 172 is tensor(7.8370)\n",
      "CE on epoch 173 is tensor(7.8369)\n",
      "CE on epoch 174 is tensor(7.8368)\n",
      "CE on epoch 175 is tensor(7.8368)\n",
      "CE on epoch 176 is tensor(7.8367)\n",
      "CE on epoch 177 is tensor(7.8366)\n",
      "CE on epoch 178 is tensor(7.8365)\n",
      "CE on epoch 179 is tensor(7.8365)\n",
      "CE on epoch 180 is tensor(7.8364)\n",
      "CE on epoch 181 is tensor(7.8364)\n",
      "CE on epoch 182 is tensor(7.8363)\n",
      "CE on epoch 183 is tensor(7.8362)\n",
      "CE on epoch 184 is tensor(7.8362)\n",
      "CE on epoch 185 is tensor(7.8361)\n",
      "CE on epoch 186 is tensor(7.8361)\n",
      "CE on epoch 187 is tensor(7.8360)\n",
      "CE on epoch 188 is tensor(7.8360)\n",
      "CE on epoch 189 is tensor(7.8359)\n",
      "CE on epoch 190 is tensor(7.8358)\n",
      "CE on epoch 191 is tensor(7.8358)\n",
      "CE on epoch 192 is tensor(7.8357)\n",
      "CE on epoch 193 is tensor(7.8357)\n",
      "CE on epoch 194 is tensor(7.8356)\n",
      "CE on epoch 195 is tensor(7.8356)\n",
      "CE on epoch 196 is tensor(7.8355)\n",
      "CE on epoch 197 is tensor(7.8354)\n",
      "CE on epoch 198 is tensor(7.8354)\n",
      "CE on epoch 199 is tensor(7.8353)\n",
      "CE on epoch 200 is tensor(7.8353)\n",
      "CE on epoch 201 is tensor(7.8352)\n",
      "CE on epoch 202 is tensor(7.8352)\n",
      "CE on epoch 203 is tensor(7.8351)\n",
      "CE on epoch 204 is tensor(7.8351)\n",
      "CE on epoch 205 is tensor(7.8350)\n",
      "CE on epoch 206 is tensor(7.8350)\n",
      "CE on epoch 207 is tensor(7.8349)\n",
      "CE on epoch 208 is tensor(7.8348)\n",
      "CE on epoch 209 is tensor(7.8348)\n",
      "CE on epoch 210 is tensor(7.8348)\n",
      "CE on epoch 211 is tensor(7.8347)\n",
      "CE on epoch 212 is tensor(7.8346)\n",
      "CE on epoch 213 is tensor(7.8346)\n",
      "CE on epoch 214 is tensor(7.8346)\n",
      "CE on epoch 215 is tensor(7.8345)\n",
      "CE on epoch 216 is tensor(7.8345)\n",
      "CE on epoch 217 is tensor(7.8344)\n",
      "CE on epoch 218 is tensor(7.8343)\n",
      "CE on epoch 219 is tensor(7.8343)\n",
      "CE on epoch 220 is tensor(7.8343)\n",
      "CE on epoch 221 is tensor(7.8342)\n",
      "CE on epoch 222 is tensor(7.8341)\n",
      "CE on epoch 223 is tensor(7.8341)\n",
      "CE on epoch 224 is tensor(7.8341)\n",
      "CE on epoch 225 is tensor(7.8340)\n",
      "CE on epoch 226 is tensor(7.8340)\n",
      "CE on epoch 227 is tensor(7.8339)\n",
      "CE on epoch 228 is tensor(7.8339)\n",
      "CE on epoch 229 is tensor(7.8338)\n",
      "CE on epoch 230 is tensor(7.8338)\n",
      "CE on epoch 231 is tensor(7.8338)\n",
      "CE on epoch 232 is tensor(7.8337)\n",
      "CE on epoch 233 is tensor(7.8336)\n",
      "CE on epoch 234 is tensor(7.8336)\n",
      "CE on epoch 235 is tensor(7.8336)\n",
      "CE on epoch 236 is tensor(7.8335)\n",
      "CE on epoch 237 is tensor(7.8335)\n",
      "CE on epoch 238 is tensor(7.8334)\n",
      "CE on epoch 239 is tensor(7.8334)\n",
      "CE on epoch 240 is tensor(7.8334)\n",
      "CE on epoch 241 is tensor(7.8333)\n",
      "CE on epoch 242 is tensor(7.8333)\n",
      "CE on epoch 243 is tensor(7.8332)\n",
      "CE on epoch 244 is tensor(7.8332)\n",
      "CE on epoch 245 is tensor(7.8332)\n",
      "CE on epoch 246 is tensor(7.8331)\n",
      "CE on epoch 247 is tensor(7.8331)\n",
      "CE on epoch 248 is tensor(7.8330)\n",
      "CE on epoch 249 is tensor(7.8330)\n",
      "CE on epoch 250 is tensor(7.8329)\n",
      "CE on epoch 251 is tensor(7.8329)\n",
      "CE on epoch 252 is tensor(7.8328)\n",
      "CE on epoch 253 is tensor(7.8328)\n",
      "CE on epoch 254 is tensor(7.8328)\n",
      "CE on epoch 255 is tensor(7.8327)\n",
      "CE on epoch 256 is tensor(7.8327)\n",
      "CE on epoch 257 is tensor(7.8326)\n"
     ]
    }
   ],
   "source": [
    "res = searchlight.fit(achrom_color_betas, targets, optim_threshold=-1, cutoff_epoch=10000, lr=.0001, batch_size=7)"
   ],
   "metadata": {
    "collapsed": false,
    "pycharm": {
     "name": "#%%\n",
     "is_executing": true
    }
   }
  },
  {
   "cell_type": "code",
   "execution_count": 40,
   "outputs": [
    {
     "name": "stdout",
     "output_type": "stream",
     "text": [
      "128\n"
     ]
    }
   ],
   "source": [
    "yhat, res = searchlight.predict(achrom_color_betas, targets)"
   ],
   "metadata": {
    "collapsed": false,
    "pycharm": {
     "name": "#%%\n"
    }
   }
  },
  {
   "cell_type": "code",
   "execution_count": 42,
   "outputs": [],
   "source": [
    "# remove trials where decoding is not possible\n",
    "decodable = []\n",
    "for trial in res:\n",
    "    if torch.min(trial) < 1.8:\n",
    "        decodable.append(trial)\n",
    "good_ce = torch.stack(decodable)"
   ],
   "metadata": {
    "collapsed": false,
    "pycharm": {
     "name": "#%%\n"
    }
   }
  },
  {
   "cell_type": "code",
   "execution_count": 43,
   "outputs": [],
   "source": [
    "npres = good_ce.detach().numpy().mean(axis=0)"
   ],
   "metadata": {
    "collapsed": false,
    "pycharm": {
     "name": "#%%\n"
    }
   }
  },
  {
   "cell_type": "code",
   "execution_count": 44,
   "outputs": [
    {
     "data": {
      "text/plain": "1.8704255"
     },
     "execution_count": 44,
     "metadata": {},
     "output_type": "execute_result"
    }
   ],
   "source": [
    "np.min(npres)"
   ],
   "metadata": {
    "collapsed": false,
    "pycharm": {
     "name": "#%%\n"
    }
   }
  },
  {
   "cell_type": "code",
   "execution_count": 17,
   "outputs": [],
   "source": [
    "import pickle as pkl\n",
    "pkl.dump(searchlight, open('../MTurk1/misc_testing_files/searchlight_decode_k5_uncolored_shapes_10000.pkl', 'wb'))"
   ],
   "metadata": {
    "collapsed": false,
    "pycharm": {
     "name": "#%%\n"
    }
   }
  },
  {
   "cell_type": "code",
   "execution_count": 45,
   "outputs": [],
   "source": [
    "ce_nii = nib.Nifti1Image(npres, affine=atlas_nii.affine, header=atlas_nii.header)\n",
    "nib.save(ce_nii, '../MTurk1/misc_testing_files/k5_train_train_uncolored_shape_searchlight_ce.nii.gz')"
   ],
   "metadata": {
    "collapsed": false,
    "pycharm": {
     "name": "#%%\n"
    }
   }
  },
  {
   "cell_type": "code",
   "execution_count": 12,
   "outputs": [],
   "source": [],
   "metadata": {
    "collapsed": false,
    "pycharm": {
     "name": "#%%\n"
    }
   }
  }
 ],
 "metadata": {
  "kernelspec": {
   "display_name": "Python 3",
   "language": "python",
   "name": "python3"
  },
  "language_info": {
   "codemirror_mode": {
    "name": "ipython",
    "version": 2
   },
   "file_extension": ".py",
   "mimetype": "text/x-python",
   "name": "python",
   "nbconvert_exporter": "python",
   "pygments_lexer": "ipython2",
   "version": "2.7.6"
  }
 },
 "nbformat": 4,
 "nbformat_minor": 0
}