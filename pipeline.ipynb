{
 "cells": [
  {
   "cell_type": "code",
   "execution_count": 1,
   "metadata": {},
   "outputs": [],
   "source": [
    "import os\n",
    "import glob\n",
    "import numpy as np\n",
    "import pandas as pd\n",
    "from subprocess import call\n",
    "import sys"
   ]
  },
  {
   "cell_type": "code",
   "execution_count": 2,
   "metadata": {},
   "outputs": [],
   "source": [
    "sessID = '20100131Castor'\n",
    "dicomDir = '/Volumes/bc6/raw_data/dicom_' + sessID\n",
    "projectDir = '/Volumes/bc7/users/duffieldsj/fMRI/'\n",
    "sessDir = os.path.join(projectDir,sessID)"
   ]
  },
  {
   "cell_type": "code",
   "execution_count": 11,
   "metadata": {},
   "outputs": [],
   "source": [
    "import unpack\n",
    "from unpack import scan_log"
   ]
  },
  {
   "cell_type": "code",
   "execution_count": 4,
   "metadata": {},
   "outputs": [
    {
     "name": "stdin",
     "output_type": "stream",
     "text": [
      "scan.info already exists. Would you like to scan the dicom files anyway? This may take several minutes. (y/n) n\n"
     ]
    },
    {
     "data": {
      "text/plain": [
       "'Dicom Scan Aborted'"
      ]
     },
     "execution_count": 4,
     "metadata": {},
     "output_type": "execute_result"
    }
   ],
   "source": [
    "scan_log(dicomDir,sessDir)"
   ]
  },
  {
   "cell_type": "code",
   "execution_count": 5,
   "metadata": {},
   "outputs": [
    {
     "data": {
      "text/plain": [
       "['1 localizer_ND 5 20 40 1.4583333730698\\\\1.4583333730698 ROW 180 /Volumes/bc6/raw_data/dicom_20100131Castor/42000-000001-000001.dcm\\n',\n",
       " '2 localizer 5 20 40 1.4583333730698\\\\1.4583333730698 ROW 180 /Volumes/bc6/raw_data/dicom_20100131Castor/42000-000002-000003.dcm\\n',\n",
       " '3 localizer_ND 5 20 40 1.4583333730698\\\\1.4583333730698 ROW 180 /Volumes/bc6/raw_data/dicom_20100131Castor/42000-000003-000001.dcm\\n',\n",
       " '4 localizer 5 20 40 1.4583333730698\\\\1.4583333730698 ROW 180 /Volumes/bc6/raw_data/dicom_20100131Castor/42000-000004-000001.dcm\\n',\n",
       " '5 fMRI-1.0mmTR2000-13 13 2000 90 unknown ROW 1860 /Volumes/bc6/raw_data/dicom_20100131Castor/42000-000005-000175.dcm\\n',\n",
       " '6 fMRI-1.0mmTR2000-13 13 2000 90 unknown ROW 1860 /Volumes/bc6/raw_data/dicom_20100131Castor/42000-000006-000124.dcm\\n',\n",
       " '7 fMRI-1.0mmTR2000-13 13 2000 90 unknown ROW 1860 /Volumes/bc6/raw_data/dicom_20100131Castor/42000-000007-000121.dcm\\n',\n",
       " '8 fMRI-1.0mmTR2000-13 13 2000 90 unknown ROW 1860 /Volumes/bc6/raw_data/dicom_20100131Castor/42000-000008-000044.dcm\\n',\n",
       " '9 fMRI-1.0mmTR2000-13 13 2000 90 unknown ROW 1860 /Volumes/bc6/raw_data/dicom_20100131Castor/42000-000009-000154.dcm\\n',\n",
       " '10 fMRI-1.0mmTR2000-13 13 2000 90 unknown ROW 1860 /Volumes/bc6/raw_data/dicom_20100131Castor/42000-000010-000208.dcm\\n',\n",
       " '11 fMRI-1.0mmTR2000-13 13 2000 90 unknown ROW 1860 /Volumes/bc6/raw_data/dicom_20100131Castor/42000-000011-000227.dcm\\n',\n",
       " '12 fMRI-1.0mmTR2000-13 13 2000 90 unknown ROW 1860 /Volumes/bc6/raw_data/dicom_20100131Castor/42000-000012-000081.dcm\\n',\n",
       " '13 fMRI-1.0mmTR2000-13 13 2000 90 unknown ROW 1860 /Volumes/bc6/raw_data/dicom_20100131Castor/42000-000013-000041.dcm\\n',\n",
       " '14 fMRI-1.0mmTR2000-13 13 2000 90 unknown ROW 1860 /Volumes/bc6/raw_data/dicom_20100131Castor/42000-000014-000226.dcm\\n',\n",
       " '15 fMRI-1.0mmTR2000-13 13 2000 90 unknown ROW 1860 /Volumes/bc6/raw_data/dicom_20100131Castor/42000-000015-000103.dcm\\n',\n",
       " '16 fMRI-1.0mmTR2000-13 13 2000 90 unknown ROW 1860 /Volumes/bc6/raw_data/dicom_20100131Castor/42000-000016-000106.dcm\\n',\n",
       " '17 fMRI-1.0mmTR2000-13 13 2000 90 unknown ROW 1860 /Volumes/bc6/raw_data/dicom_20100131Castor/42000-000017-000219.dcm\\n',\n",
       " '18 fMRI-1.0mmTR2000-13 13 2000 90 unknown ROW 1860 /Volumes/bc6/raw_data/dicom_20100131Castor/42000-000018-000143.dcm\\n']"
      ]
     },
     "execution_count": 5,
     "metadata": {},
     "output_type": "execute_result"
    }
   ],
   "source": [
    "scan_info = open(os.path.join(sessDir,'scan.info'))\n",
    "scan_info.readlines()"
   ]
  },
  {
   "cell_type": "code",
   "execution_count": 13,
   "metadata": {},
   "outputs": [
    {
     "name": "stdout",
     "output_type": "stream",
     "text": [
      "dcmunpack -src /Volumes/bc6/raw_data/dicom_20100131Castor -index-in /Volumes/bc7/users/duffieldsj/fMRI/20100131Castor/dcm.index.dat -targ /Volumes/bc7/users/duffieldsj/fMRI/20100131Castor \\ -run 5 MION nii f.nii \\ -run 6 MION nii f.nii \\ -run 7 MION nii f.nii \\ -run 8 MION nii f.nii \\ -run 9 MION nii f.nii \\ -run 10 MION nii f.nii \\ -run 11 MION nii f.nii \\ -run 12 MION nii f.nii \\ -run 13 MION nii f.nii \\ -run 14 MION nii f.nii \\ -run 15 MION nii f.nii \\ -run 16 MION nii f.nii \\ -run 17 MION nii f.nii \n"
     ]
    }
   ],
   "source": [
    "runs = np.arange(5,18,1)\n",
    "unpack.unpack(dicomDir,sessDir,runs,'MION')"
   ]
  }
 ],
 "metadata": {
  "kernelspec": {
   "display_name": "Python 3 (Spyder)",
   "language": "python3",
   "name": "python3"
  },
  "language_info": {
   "codemirror_mode": {
    "name": "ipython",
    "version": 3
   },
   "file_extension": ".py",
   "mimetype": "text/x-python",
   "name": "python",
   "nbconvert_exporter": "python",
   "pygments_lexer": "ipython3",
   "version": "3.8.11"
  }
 },
 "nbformat": 4,
 "nbformat_minor": 4
}
