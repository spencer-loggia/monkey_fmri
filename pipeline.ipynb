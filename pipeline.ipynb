{
 "cells": [
  {
   "cell_type": "code",
   "execution_count": 1,
   "metadata": {
    "collapsed": true
   },
   "outputs": [
    {
     "name": "stderr",
     "output_type": "stream",
     "text": [
      "/opt/anaconda3/lib/python3.8/site-packages/dicom/__init__.py:53: UserWarning: \n",
      "This code is using an older version of pydicom, which is no longer \n",
      "maintained as of Jan 2017.  You can access the new pydicom features and API \n",
      "by installing `pydicom` from PyPI.\n",
      "See 'Transitioning to pydicom 1.x' section at pydicom.readthedocs.org \n",
      "for more information.\n",
      "\n",
      "  warnings.warn(msg)\n",
      "\n",
      "Bad key savefig.frameon in file /opt/anaconda3/lib/python3.8/site-packages/matplotlib/mpl-data/stylelib/_classic_test.mplstyle, line 421 ('savefig.frameon : True')\n",
      "You probably need to get an updated matplotlibrc file from\n",
      "https://github.com/matplotlib/matplotlib/blob/v3.4.2/matplotlibrc.template\n",
      "or from the matplotlib source distribution\n",
      "\n",
      "Bad key verbose.level in file /opt/anaconda3/lib/python3.8/site-packages/matplotlib/mpl-data/stylelib/_classic_test.mplstyle, line 472 ('verbose.level  : silent      # one of silent, helpful, debug, debug-annoying')\n",
      "You probably need to get an updated matplotlibrc file from\n",
      "https://github.com/matplotlib/matplotlib/blob/v3.4.2/matplotlibrc.template\n",
      "or from the matplotlib source distribution\n",
      "\n",
      "Bad key verbose.fileo in file /opt/anaconda3/lib/python3.8/site-packages/matplotlib/mpl-data/stylelib/_classic_test.mplstyle, line 473 ('verbose.fileo  : sys.stdout  # a log filename, sys.stdout or sys.stderr')\n",
      "You probably need to get an updated matplotlibrc file from\n",
      "https://github.com/matplotlib/matplotlib/blob/v3.4.2/matplotlibrc.template\n",
      "or from the matplotlib source distribution\n",
      "In /opt/anaconda3/lib/python3.8/site-packages/matplotlib/mpl-data/stylelib/_classic_test.mplstyle: \n",
      "The text.latex.preview rcparam was deprecated in Matplotlib 3.3 and will be removed two minor releases later.\n",
      "In /opt/anaconda3/lib/python3.8/site-packages/matplotlib/mpl-data/stylelib/_classic_test.mplstyle: \n",
      "The mathtext.fallback_to_cm rcparam was deprecated in Matplotlib 3.3 and will be removed two minor releases later.\n",
      "In /opt/anaconda3/lib/python3.8/site-packages/matplotlib/mpl-data/stylelib/_classic_test.mplstyle: Support for setting the 'mathtext.fallback_to_cm' rcParam is deprecated since 3.3 and will be removed two minor releases later; use 'mathtext.fallback : 'cm' instead.\n",
      "In /opt/anaconda3/lib/python3.8/site-packages/matplotlib/mpl-data/stylelib/_classic_test.mplstyle: \n",
      "The validate_bool_maybe_none function was deprecated in Matplotlib 3.3 and will be removed two minor releases later.\n",
      "In /opt/anaconda3/lib/python3.8/site-packages/matplotlib/mpl-data/stylelib/_classic_test.mplstyle: \n",
      "The savefig.jpeg_quality rcparam was deprecated in Matplotlib 3.3 and will be removed two minor releases later.\n",
      "In /opt/anaconda3/lib/python3.8/site-packages/matplotlib/mpl-data/stylelib/_classic_test.mplstyle: \n",
      "The keymap.all_axes rcparam was deprecated in Matplotlib 3.3 and will be removed two minor releases later.\n",
      "In /opt/anaconda3/lib/python3.8/site-packages/matplotlib/mpl-data/stylelib/_classic_test.mplstyle: \n",
      "The animation.avconv_path rcparam was deprecated in Matplotlib 3.3 and will be removed two minor releases later.\n",
      "In /opt/anaconda3/lib/python3.8/site-packages/matplotlib/mpl-data/stylelib/_classic_test.mplstyle: \n",
      "The animation.avconv_args rcparam was deprecated in Matplotlib 3.3 and will be removed two minor releases later.\n",
      "/opt/anaconda3/lib/python3.8/site-packages/nilearn/datasets/__init__.py:86: FutureWarning: Fetchers from the nilearn.datasets module will be updated in version 0.9 to return python strings instead of bytes and Pandas dataframes instead of Numpy arrays.\n",
      "  warn(\"Fetchers from the nilearn.datasets module will be \"\n"
     ]
    }
   ],
   "source": [
    "#Vital\n",
    "import os\n",
    "import glob\n",
    "import numpy as np\n",
    "import pandas as pd\n",
    "from subprocess import call\n",
    "import sys\n",
    "from nilearn.plotting import plot_carpet as carpet"
   ]
  },
  {
   "cell_type": "code",
   "execution_count": 2,
   "metadata": {},
   "outputs": [],
   "source": [
    "# Vital\n",
    "sessID = '20100131Castor'\n",
    "dicomDir = '/Volumes/bc6/raw_data/dicom_' + sessID\n",
    "projectDir = '/Volumes/bc7/users/duffieldsj/fMRI/'\n",
    "sessDir = os.path.join(projectDir,sessID)"
   ]
  },
  {
   "cell_type": "code",
   "execution_count": 11,
   "metadata": {},
   "outputs": [],
   "source": [
    "import unpack\n",
    "from unpack import scan_log"
   ]
  },
  {
   "cell_type": "code",
   "execution_count": 4,
   "metadata": {},
   "outputs": [
    {
     "name": "stdin",
     "output_type": "stream",
     "text": [
      "scan.info already exists. Would you like to scan the dicom files anyway? This may take several minutes. (y/n) n\n"
     ]
    },
    {
     "data": {
      "text/plain": [
       "'Dicom Scan Aborted'"
      ]
     },
     "execution_count": 4,
     "metadata": {},
     "output_type": "execute_result"
    }
   ],
   "source": [
    "scan_log(dicomDir,sessDir)"
   ]
  },
  {
   "cell_type": "code",
   "execution_count": 5,
   "metadata": {
    "collapsed": true
   },
   "outputs": [
    {
     "data": {
      "text/plain": [
       "['1 localizer_ND 5 20 40 1.4583333730698\\\\1.4583333730698 ROW 180 /Volumes/bc6/raw_data/dicom_20100131Castor/42000-000001-000001.dcm\\n',\n",
       " '2 localizer 5 20 40 1.4583333730698\\\\1.4583333730698 ROW 180 /Volumes/bc6/raw_data/dicom_20100131Castor/42000-000002-000003.dcm\\n',\n",
       " '3 localizer_ND 5 20 40 1.4583333730698\\\\1.4583333730698 ROW 180 /Volumes/bc6/raw_data/dicom_20100131Castor/42000-000003-000001.dcm\\n',\n",
       " '4 localizer 5 20 40 1.4583333730698\\\\1.4583333730698 ROW 180 /Volumes/bc6/raw_data/dicom_20100131Castor/42000-000004-000001.dcm\\n',\n",
       " '5 fMRI-1.0mmTR2000-13 13 2000 90 unknown ROW 1860 /Volumes/bc6/raw_data/dicom_20100131Castor/42000-000005-000175.dcm\\n',\n",
       " '6 fMRI-1.0mmTR2000-13 13 2000 90 unknown ROW 1860 /Volumes/bc6/raw_data/dicom_20100131Castor/42000-000006-000124.dcm\\n',\n",
       " '7 fMRI-1.0mmTR2000-13 13 2000 90 unknown ROW 1860 /Volumes/bc6/raw_data/dicom_20100131Castor/42000-000007-000121.dcm\\n',\n",
       " '8 fMRI-1.0mmTR2000-13 13 2000 90 unknown ROW 1860 /Volumes/bc6/raw_data/dicom_20100131Castor/42000-000008-000044.dcm\\n',\n",
       " '9 fMRI-1.0mmTR2000-13 13 2000 90 unknown ROW 1860 /Volumes/bc6/raw_data/dicom_20100131Castor/42000-000009-000154.dcm\\n',\n",
       " '10 fMRI-1.0mmTR2000-13 13 2000 90 unknown ROW 1860 /Volumes/bc6/raw_data/dicom_20100131Castor/42000-000010-000208.dcm\\n',\n",
       " '11 fMRI-1.0mmTR2000-13 13 2000 90 unknown ROW 1860 /Volumes/bc6/raw_data/dicom_20100131Castor/42000-000011-000227.dcm\\n',\n",
       " '12 fMRI-1.0mmTR2000-13 13 2000 90 unknown ROW 1860 /Volumes/bc6/raw_data/dicom_20100131Castor/42000-000012-000081.dcm\\n',\n",
       " '13 fMRI-1.0mmTR2000-13 13 2000 90 unknown ROW 1860 /Volumes/bc6/raw_data/dicom_20100131Castor/42000-000013-000041.dcm\\n',\n",
       " '14 fMRI-1.0mmTR2000-13 13 2000 90 unknown ROW 1860 /Volumes/bc6/raw_data/dicom_20100131Castor/42000-000014-000226.dcm\\n',\n",
       " '15 fMRI-1.0mmTR2000-13 13 2000 90 unknown ROW 1860 /Volumes/bc6/raw_data/dicom_20100131Castor/42000-000015-000103.dcm\\n',\n",
       " '16 fMRI-1.0mmTR2000-13 13 2000 90 unknown ROW 1860 /Volumes/bc6/raw_data/dicom_20100131Castor/42000-000016-000106.dcm\\n',\n",
       " '17 fMRI-1.0mmTR2000-13 13 2000 90 unknown ROW 1860 /Volumes/bc6/raw_data/dicom_20100131Castor/42000-000017-000219.dcm\\n',\n",
       " '18 fMRI-1.0mmTR2000-13 13 2000 90 unknown ROW 1860 /Volumes/bc6/raw_data/dicom_20100131Castor/42000-000018-000143.dcm\\n']"
      ]
     },
     "execution_count": 5,
     "metadata": {},
     "output_type": "execute_result"
    }
   ],
   "source": [
    "scan_info = open(os.path.join(sessDir,'scan.info'))\n",
    "scan_info.readlines()"
   ]
  },
  {
   "cell_type": "code",
   "execution_count": 13,
   "metadata": {},
   "outputs": [
    {
     "name": "stdout",
     "output_type": "stream",
     "text": [
      "dcmunpack -src /Volumes/bc6/raw_data/dicom_20100131Castor -index-in /Volumes/bc7/users/duffieldsj/fMRI/20100131Castor/dcm.index.dat -targ /Volumes/bc7/users/duffieldsj/fMRI/20100131Castor \\ -run 5 MION nii f.nii \\ -run 6 MION nii f.nii \\ -run 7 MION nii f.nii \\ -run 8 MION nii f.nii \\ -run 9 MION nii f.nii \\ -run 10 MION nii f.nii \\ -run 11 MION nii f.nii \\ -run 12 MION nii f.nii \\ -run 13 MION nii f.nii \\ -run 14 MION nii f.nii \\ -run 15 MION nii f.nii \\ -run 16 MION nii f.nii \\ -run 17 MION nii f.nii \n"
     ]
    }
   ],
   "source": [
    "runs = np.arange(5,18,1)\n",
    "unpack.unpack(dicomDir,sessDir,runs,'MION')"
   ]
  },
  {
   "cell_type": "code",
   "execution_count": 3,
   "metadata": {},
   "outputs": [],
   "source": [
    "# Vital\n",
    "import preprocess as pp"
   ]
  },
  {
   "cell_type": "code",
   "execution_count": 4,
   "metadata": {},
   "outputs": [
    {
     "data": {
      "text/plain": [
       "['/Volumes/bc7/users/duffieldsj/fMRI/20100131Castor/MION/016',\n",
       " '/Volumes/bc7/users/duffieldsj/fMRI/20100131Castor/MION/006',\n",
       " '/Volumes/bc7/users/duffieldsj/fMRI/20100131Castor/MION/005',\n",
       " '/Volumes/bc7/users/duffieldsj/fMRI/20100131Castor/MION/012',\n",
       " '/Volumes/bc7/users/duffieldsj/fMRI/20100131Castor/MION/014',\n",
       " '/Volumes/bc7/users/duffieldsj/fMRI/20100131Castor/MION/013',\n",
       " '/Volumes/bc7/users/duffieldsj/fMRI/20100131Castor/MION/008',\n",
       " '/Volumes/bc7/users/duffieldsj/fMRI/20100131Castor/MION/011',\n",
       " '/Volumes/bc7/users/duffieldsj/fMRI/20100131Castor/MION/017',\n",
       " '/Volumes/bc7/users/duffieldsj/fMRI/20100131Castor/MION/010',\n",
       " '/Volumes/bc7/users/duffieldsj/fMRI/20100131Castor/MION/015',\n",
       " '/Volumes/bc7/users/duffieldsj/fMRI/20100131Castor/MION/009',\n",
       " '/Volumes/bc7/users/duffieldsj/fMRI/20100131Castor/MION/007']"
      ]
     },
     "execution_count": 4,
     "metadata": {},
     "output_type": "execute_result"
    }
   ],
   "source": [
    "run_Dirs = [os.path.join(sessDir,'MION',run) for run in os.listdir(os.path.join(sessDir,'MION'))]\n",
    "run_Dirs"
   ]
  },
  {
   "cell_type": "code",
   "execution_count": 20,
   "metadata": {},
   "outputs": [
    {
     "name": "stdout",
     "output_type": "stream",
     "text": [
      "210824-11:46:38,678 nipype.interface INFO:\n",
      "\t stdout 2021-08-24T11:46:38.678810:mri_convert --sphinx --out_type nii --input_volume /Volumes/bc7/users/duffieldsj/fMRI/20100131Castor/MION/016/f.nii --output_volume /Volumes/bc7/users/duffieldsj/fMRI/20100131Castor/MION/016/f.nii \n",
      "210824-11:46:59,564 nipype.interface INFO:\n",
      "\t stdout 2021-08-24T11:46:59.564625:reading from /Volumes/bc7/users/duffieldsj/fMRI/20100131Castor/MION/016/f.nii...\n",
      "210824-11:46:59,565 nipype.interface INFO:\n",
      "\t stdout 2021-08-24T11:46:59.564625:TR=2000.00, TE=0.00, TI=0.00, flip angle=0.00\n",
      "210824-11:46:59,565 nipype.interface INFO:\n",
      "\t stdout 2021-08-24T11:46:59.564625:i_ras = (-1, -0, 0)\n",
      "210824-11:46:59,566 nipype.interface INFO:\n",
      "\t stdout 2021-08-24T11:46:59.564625:j_ras = (-0, -0.295708, -0.955278)\n",
      "210824-11:46:59,567 nipype.interface INFO:\n",
      "\t stdout 2021-08-24T11:46:59.564625:k_ras = (-0, -0.955278, 0.295708)\n",
      "210824-11:46:59,567 nipype.interface INFO:\n",
      "\t stdout 2021-08-24T11:46:59.564625:Changing orientation information to Sphinx\n",
      "210824-11:46:59,568 nipype.interface INFO:\n",
      "\t stdout 2021-08-24T11:46:59.564625:writing to /Volumes/bc7/users/duffieldsj/fMRI/20100131Castor/MION/016/f.nii...\n",
      "210824-11:46:59,754 nipype.interface INFO:\n",
      "\t stdout 2021-08-24T11:46:59.754817:mri_convert --sphinx --out_type nii --input_volume /Volumes/bc7/users/duffieldsj/fMRI/20100131Castor/MION/006/f.nii --output_volume /Volumes/bc7/users/duffieldsj/fMRI/20100131Castor/MION/006/f.nii \n",
      "210824-11:47:20,708 nipype.interface INFO:\n",
      "\t stdout 2021-08-24T11:47:20.708430:reading from /Volumes/bc7/users/duffieldsj/fMRI/20100131Castor/MION/006/f.nii...\n",
      "210824-11:47:20,709 nipype.interface INFO:\n",
      "\t stdout 2021-08-24T11:47:20.708430:TR=2000.00, TE=0.00, TI=0.00, flip angle=0.00\n",
      "210824-11:47:20,709 nipype.interface INFO:\n",
      "\t stdout 2021-08-24T11:47:20.708430:i_ras = (-1, -0, 0)\n",
      "210824-11:47:20,710 nipype.interface INFO:\n",
      "\t stdout 2021-08-24T11:47:20.708430:j_ras = (-0, -0.295708, -0.955278)\n",
      "210824-11:47:20,710 nipype.interface INFO:\n",
      "\t stdout 2021-08-24T11:47:20.708430:k_ras = (-0, -0.955278, 0.295708)\n",
      "210824-11:47:20,711 nipype.interface INFO:\n",
      "\t stdout 2021-08-24T11:47:20.708430:Changing orientation information to Sphinx\n",
      "210824-11:47:20,711 nipype.interface INFO:\n",
      "\t stdout 2021-08-24T11:47:20.708430:writing to /Volumes/bc7/users/duffieldsj/fMRI/20100131Castor/MION/006/f.nii...\n",
      "210824-11:47:20,897 nipype.interface INFO:\n",
      "\t stdout 2021-08-24T11:47:20.897054:mri_convert --sphinx --out_type nii --input_volume /Volumes/bc7/users/duffieldsj/fMRI/20100131Castor/MION/005/f.nii --output_volume /Volumes/bc7/users/duffieldsj/fMRI/20100131Castor/MION/005/f.nii \n",
      "210824-11:47:42,18 nipype.interface INFO:\n",
      "\t stdout 2021-08-24T11:47:42.018236:reading from /Volumes/bc7/users/duffieldsj/fMRI/20100131Castor/MION/005/f.nii...\n",
      "210824-11:47:42,18 nipype.interface INFO:\n",
      "\t stdout 2021-08-24T11:47:42.018236:TR=2000.00, TE=0.00, TI=0.00, flip angle=0.00\n",
      "210824-11:47:42,19 nipype.interface INFO:\n",
      "\t stdout 2021-08-24T11:47:42.018236:i_ras = (-1, -0, 0)\n",
      "210824-11:47:42,19 nipype.interface INFO:\n",
      "\t stdout 2021-08-24T11:47:42.018236:j_ras = (-0, -0.295708, -0.955278)\n",
      "210824-11:47:42,20 nipype.interface INFO:\n",
      "\t stdout 2021-08-24T11:47:42.018236:k_ras = (-0, -0.955278, 0.295708)\n",
      "210824-11:47:42,21 nipype.interface INFO:\n",
      "\t stdout 2021-08-24T11:47:42.018236:Changing orientation information to Sphinx\n",
      "210824-11:47:42,22 nipype.interface INFO:\n",
      "\t stdout 2021-08-24T11:47:42.018236:writing to /Volumes/bc7/users/duffieldsj/fMRI/20100131Castor/MION/005/f.nii...\n",
      "210824-11:47:42,198 nipype.interface INFO:\n",
      "\t stdout 2021-08-24T11:47:42.198322:mri_convert --sphinx --out_type nii --input_volume /Volumes/bc7/users/duffieldsj/fMRI/20100131Castor/MION/012/f.nii --output_volume /Volumes/bc7/users/duffieldsj/fMRI/20100131Castor/MION/012/f.nii \n",
      "210824-11:48:04,204 nipype.interface INFO:\n",
      "\t stdout 2021-08-24T11:48:04.204239:reading from /Volumes/bc7/users/duffieldsj/fMRI/20100131Castor/MION/012/f.nii...\n",
      "210824-11:48:04,204 nipype.interface INFO:\n",
      "\t stdout 2021-08-24T11:48:04.204239:TR=2000.00, TE=0.00, TI=0.00, flip angle=0.00\n",
      "210824-11:48:04,205 nipype.interface INFO:\n",
      "\t stdout 2021-08-24T11:48:04.204239:i_ras = (-1, -0, 0)\n",
      "210824-11:48:04,205 nipype.interface INFO:\n",
      "\t stdout 2021-08-24T11:48:04.204239:j_ras = (-0, -0.295708, -0.955278)\n",
      "210824-11:48:04,206 nipype.interface INFO:\n",
      "\t stdout 2021-08-24T11:48:04.204239:k_ras = (-0, -0.955278, 0.295708)\n",
      "210824-11:48:04,207 nipype.interface INFO:\n",
      "\t stdout 2021-08-24T11:48:04.204239:Changing orientation information to Sphinx\n",
      "210824-11:48:04,207 nipype.interface INFO:\n",
      "\t stdout 2021-08-24T11:48:04.204239:writing to /Volumes/bc7/users/duffieldsj/fMRI/20100131Castor/MION/012/f.nii...\n",
      "210824-11:48:04,392 nipype.interface INFO:\n",
      "\t stdout 2021-08-24T11:48:04.392270:mri_convert --sphinx --out_type nii --input_volume /Volumes/bc7/users/duffieldsj/fMRI/20100131Castor/MION/014/f.nii --output_volume /Volumes/bc7/users/duffieldsj/fMRI/20100131Castor/MION/014/f.nii \n",
      "210824-11:48:26,295 nipype.interface INFO:\n",
      "\t stdout 2021-08-24T11:48:26.295357:reading from /Volumes/bc7/users/duffieldsj/fMRI/20100131Castor/MION/014/f.nii...\n",
      "210824-11:48:26,296 nipype.interface INFO:\n",
      "\t stdout 2021-08-24T11:48:26.295357:TR=2000.00, TE=0.00, TI=0.00, flip angle=0.00\n",
      "210824-11:48:26,296 nipype.interface INFO:\n",
      "\t stdout 2021-08-24T11:48:26.295357:i_ras = (-1, -0, 0)\n",
      "210824-11:48:26,296 nipype.interface INFO:\n",
      "\t stdout 2021-08-24T11:48:26.295357:j_ras = (-0, -0.295708, -0.955278)\n",
      "210824-11:48:26,297 nipype.interface INFO:\n",
      "\t stdout 2021-08-24T11:48:26.295357:k_ras = (-0, -0.955278, 0.295708)\n",
      "210824-11:48:26,298 nipype.interface INFO:\n",
      "\t stdout 2021-08-24T11:48:26.295357:Changing orientation information to Sphinx\n",
      "210824-11:48:26,298 nipype.interface INFO:\n",
      "\t stdout 2021-08-24T11:48:26.295357:writing to /Volumes/bc7/users/duffieldsj/fMRI/20100131Castor/MION/014/f.nii...\n",
      "210824-11:48:26,483 nipype.interface INFO:\n",
      "\t stdout 2021-08-24T11:48:26.483579:mri_convert --sphinx --out_type nii --input_volume /Volumes/bc7/users/duffieldsj/fMRI/20100131Castor/MION/013/f.nii --output_volume /Volumes/bc7/users/duffieldsj/fMRI/20100131Castor/MION/013/f.nii \n",
      "210824-11:48:48,25 nipype.interface INFO:\n",
      "\t stdout 2021-08-24T11:48:48.025606:reading from /Volumes/bc7/users/duffieldsj/fMRI/20100131Castor/MION/013/f.nii...\n",
      "210824-11:48:48,26 nipype.interface INFO:\n",
      "\t stdout 2021-08-24T11:48:48.025606:TR=2000.00, TE=0.00, TI=0.00, flip angle=0.00\n",
      "210824-11:48:48,26 nipype.interface INFO:\n",
      "\t stdout 2021-08-24T11:48:48.025606:i_ras = (-1, -0, 0)\n",
      "210824-11:48:48,27 nipype.interface INFO:\n",
      "\t stdout 2021-08-24T11:48:48.025606:j_ras = (-0, -0.295708, -0.955278)\n",
      "210824-11:48:48,28 nipype.interface INFO:\n",
      "\t stdout 2021-08-24T11:48:48.025606:k_ras = (-0, -0.955278, 0.295708)\n",
      "210824-11:48:48,28 nipype.interface INFO:\n",
      "\t stdout 2021-08-24T11:48:48.025606:Changing orientation information to Sphinx\n",
      "210824-11:48:48,29 nipype.interface INFO:\n",
      "\t stdout 2021-08-24T11:48:48.025606:writing to /Volumes/bc7/users/duffieldsj/fMRI/20100131Castor/MION/013/f.nii...\n",
      "210824-11:48:48,218 nipype.interface INFO:\n",
      "\t stdout 2021-08-24T11:48:48.218722:mri_convert --sphinx --out_type nii --input_volume /Volumes/bc7/users/duffieldsj/fMRI/20100131Castor/MION/008/f.nii --output_volume /Volumes/bc7/users/duffieldsj/fMRI/20100131Castor/MION/008/f.nii \n",
      "210824-11:49:08,983 nipype.interface INFO:\n",
      "\t stdout 2021-08-24T11:49:08.983040:reading from /Volumes/bc7/users/duffieldsj/fMRI/20100131Castor/MION/008/f.nii...\n",
      "210824-11:49:08,983 nipype.interface INFO:\n",
      "\t stdout 2021-08-24T11:49:08.983040:TR=2000.00, TE=0.00, TI=0.00, flip angle=0.00\n",
      "210824-11:49:08,984 nipype.interface INFO:\n",
      "\t stdout 2021-08-24T11:49:08.983040:i_ras = (-1, -0, 0)\n",
      "210824-11:49:08,984 nipype.interface INFO:\n",
      "\t stdout 2021-08-24T11:49:08.983040:j_ras = (-0, -0.295708, -0.955278)\n",
      "210824-11:49:08,985 nipype.interface INFO:\n",
      "\t stdout 2021-08-24T11:49:08.983040:k_ras = (-0, -0.955278, 0.295708)\n",
      "210824-11:49:08,985 nipype.interface INFO:\n",
      "\t stdout 2021-08-24T11:49:08.983040:Changing orientation information to Sphinx\n",
      "210824-11:49:08,986 nipype.interface INFO:\n",
      "\t stdout 2021-08-24T11:49:08.983040:writing to /Volumes/bc7/users/duffieldsj/fMRI/20100131Castor/MION/008/f.nii...\n",
      "210824-11:49:09,173 nipype.interface INFO:\n",
      "\t stdout 2021-08-24T11:49:09.173002:mri_convert --sphinx --out_type nii --input_volume /Volumes/bc7/users/duffieldsj/fMRI/20100131Castor/MION/011/f.nii --output_volume /Volumes/bc7/users/duffieldsj/fMRI/20100131Castor/MION/011/f.nii \n"
     ]
    },
    {
     "name": "stdout",
     "output_type": "stream",
     "text": [
      "210824-11:49:30,826 nipype.interface INFO:\n",
      "\t stdout 2021-08-24T11:49:30.826468:reading from /Volumes/bc7/users/duffieldsj/fMRI/20100131Castor/MION/011/f.nii...\n",
      "210824-11:49:30,827 nipype.interface INFO:\n",
      "\t stdout 2021-08-24T11:49:30.826468:TR=2000.00, TE=0.00, TI=0.00, flip angle=0.00\n",
      "210824-11:49:30,827 nipype.interface INFO:\n",
      "\t stdout 2021-08-24T11:49:30.826468:i_ras = (-1, -0, 0)\n",
      "210824-11:49:30,828 nipype.interface INFO:\n",
      "\t stdout 2021-08-24T11:49:30.826468:j_ras = (-0, -0.295708, -0.955278)\n",
      "210824-11:49:30,829 nipype.interface INFO:\n",
      "\t stdout 2021-08-24T11:49:30.826468:k_ras = (-0, -0.955278, 0.295708)\n",
      "210824-11:49:30,829 nipype.interface INFO:\n",
      "\t stdout 2021-08-24T11:49:30.826468:Changing orientation information to Sphinx\n",
      "210824-11:49:30,830 nipype.interface INFO:\n",
      "\t stdout 2021-08-24T11:49:30.826468:writing to /Volumes/bc7/users/duffieldsj/fMRI/20100131Castor/MION/011/f.nii...\n",
      "210824-11:49:31,36 nipype.interface INFO:\n",
      "\t stdout 2021-08-24T11:49:31.036335:mri_convert --sphinx --out_type nii --input_volume /Volumes/bc7/users/duffieldsj/fMRI/20100131Castor/MION/017/f.nii --output_volume /Volumes/bc7/users/duffieldsj/fMRI/20100131Castor/MION/017/f.nii \n",
      "210824-11:49:52,53 nipype.interface INFO:\n",
      "\t stdout 2021-08-24T11:49:52.053580:reading from /Volumes/bc7/users/duffieldsj/fMRI/20100131Castor/MION/017/f.nii...\n",
      "210824-11:49:52,54 nipype.interface INFO:\n",
      "\t stdout 2021-08-24T11:49:52.053580:TR=2000.00, TE=0.00, TI=0.00, flip angle=0.00\n",
      "210824-11:49:52,54 nipype.interface INFO:\n",
      "\t stdout 2021-08-24T11:49:52.053580:i_ras = (-1, -0, 0)\n",
      "210824-11:49:52,55 nipype.interface INFO:\n",
      "\t stdout 2021-08-24T11:49:52.053580:j_ras = (-0, -0.295708, -0.955278)\n",
      "210824-11:49:52,55 nipype.interface INFO:\n",
      "\t stdout 2021-08-24T11:49:52.053580:k_ras = (-0, -0.955278, 0.295708)\n",
      "210824-11:49:52,56 nipype.interface INFO:\n",
      "\t stdout 2021-08-24T11:49:52.053580:Changing orientation information to Sphinx\n",
      "210824-11:49:52,56 nipype.interface INFO:\n",
      "\t stdout 2021-08-24T11:49:52.053580:writing to /Volumes/bc7/users/duffieldsj/fMRI/20100131Castor/MION/017/f.nii...\n",
      "210824-11:49:52,257 nipype.interface INFO:\n",
      "\t stdout 2021-08-24T11:49:52.257701:mri_convert --sphinx --out_type nii --input_volume /Volumes/bc7/users/duffieldsj/fMRI/20100131Castor/MION/010/f.nii --output_volume /Volumes/bc7/users/duffieldsj/fMRI/20100131Castor/MION/010/f.nii \n",
      "210824-11:50:12,970 nipype.interface INFO:\n",
      "\t stdout 2021-08-24T11:50:12.970163:reading from /Volumes/bc7/users/duffieldsj/fMRI/20100131Castor/MION/010/f.nii...\n",
      "210824-11:50:12,970 nipype.interface INFO:\n",
      "\t stdout 2021-08-24T11:50:12.970163:TR=2000.00, TE=0.00, TI=0.00, flip angle=0.00\n",
      "210824-11:50:12,971 nipype.interface INFO:\n",
      "\t stdout 2021-08-24T11:50:12.970163:i_ras = (-1, -0, 0)\n",
      "210824-11:50:12,971 nipype.interface INFO:\n",
      "\t stdout 2021-08-24T11:50:12.970163:j_ras = (-0, -0.295708, -0.955278)\n",
      "210824-11:50:12,972 nipype.interface INFO:\n",
      "\t stdout 2021-08-24T11:50:12.970163:k_ras = (-0, -0.955278, 0.295708)\n",
      "210824-11:50:12,973 nipype.interface INFO:\n",
      "\t stdout 2021-08-24T11:50:12.970163:Changing orientation information to Sphinx\n",
      "210824-11:50:12,973 nipype.interface INFO:\n",
      "\t stdout 2021-08-24T11:50:12.970163:writing to /Volumes/bc7/users/duffieldsj/fMRI/20100131Castor/MION/010/f.nii...\n",
      "210824-11:50:13,162 nipype.interface INFO:\n",
      "\t stdout 2021-08-24T11:50:13.162402:mri_convert --sphinx --out_type nii --input_volume /Volumes/bc7/users/duffieldsj/fMRI/20100131Castor/MION/015/f.nii --output_volume /Volumes/bc7/users/duffieldsj/fMRI/20100131Castor/MION/015/f.nii \n",
      "210824-11:50:34,472 nipype.interface INFO:\n",
      "\t stdout 2021-08-24T11:50:34.472446:reading from /Volumes/bc7/users/duffieldsj/fMRI/20100131Castor/MION/015/f.nii...\n",
      "210824-11:50:34,473 nipype.interface INFO:\n",
      "\t stdout 2021-08-24T11:50:34.472446:TR=2000.00, TE=0.00, TI=0.00, flip angle=0.00\n",
      "210824-11:50:34,473 nipype.interface INFO:\n",
      "\t stdout 2021-08-24T11:50:34.472446:i_ras = (-1, -0, 0)\n",
      "210824-11:50:34,474 nipype.interface INFO:\n",
      "\t stdout 2021-08-24T11:50:34.472446:j_ras = (-0, -0.295708, -0.955278)\n",
      "210824-11:50:34,474 nipype.interface INFO:\n",
      "\t stdout 2021-08-24T11:50:34.472446:k_ras = (-0, -0.955278, 0.295708)\n",
      "210824-11:50:34,475 nipype.interface INFO:\n",
      "\t stdout 2021-08-24T11:50:34.472446:Changing orientation information to Sphinx\n",
      "210824-11:50:34,476 nipype.interface INFO:\n",
      "\t stdout 2021-08-24T11:50:34.472446:writing to /Volumes/bc7/users/duffieldsj/fMRI/20100131Castor/MION/015/f.nii...\n",
      "210824-11:50:34,658 nipype.interface INFO:\n",
      "\t stdout 2021-08-24T11:50:34.658287:mri_convert --sphinx --out_type nii --input_volume /Volumes/bc7/users/duffieldsj/fMRI/20100131Castor/MION/009/f.nii --output_volume /Volumes/bc7/users/duffieldsj/fMRI/20100131Castor/MION/009/f.nii \n",
      "210824-11:50:56,245 nipype.interface INFO:\n",
      "\t stdout 2021-08-24T11:50:56.244988:reading from /Volumes/bc7/users/duffieldsj/fMRI/20100131Castor/MION/009/f.nii...\n",
      "210824-11:50:56,245 nipype.interface INFO:\n",
      "\t stdout 2021-08-24T11:50:56.244988:TR=2000.00, TE=0.00, TI=0.00, flip angle=0.00\n",
      "210824-11:50:56,246 nipype.interface INFO:\n",
      "\t stdout 2021-08-24T11:50:56.244988:i_ras = (-1, -0, 0)\n",
      "210824-11:50:56,246 nipype.interface INFO:\n",
      "\t stdout 2021-08-24T11:50:56.244988:j_ras = (-0, -0.295708, -0.955278)\n",
      "210824-11:50:56,247 nipype.interface INFO:\n",
      "\t stdout 2021-08-24T11:50:56.244988:k_ras = (-0, -0.955278, 0.295708)\n",
      "210824-11:50:56,247 nipype.interface INFO:\n",
      "\t stdout 2021-08-24T11:50:56.244988:Changing orientation information to Sphinx\n",
      "210824-11:50:56,248 nipype.interface INFO:\n",
      "\t stdout 2021-08-24T11:50:56.244988:writing to /Volumes/bc7/users/duffieldsj/fMRI/20100131Castor/MION/009/f.nii...\n",
      "210824-11:50:56,437 nipype.interface INFO:\n",
      "\t stdout 2021-08-24T11:50:56.437412:mri_convert --sphinx --out_type nii --input_volume /Volumes/bc7/users/duffieldsj/fMRI/20100131Castor/MION/007/f.nii --output_volume /Volumes/bc7/users/duffieldsj/fMRI/20100131Castor/MION/007/f.nii \n",
      "210824-11:51:17,675 nipype.interface INFO:\n",
      "\t stdout 2021-08-24T11:51:17.675131:reading from /Volumes/bc7/users/duffieldsj/fMRI/20100131Castor/MION/007/f.nii...\n",
      "210824-11:51:17,675 nipype.interface INFO:\n",
      "\t stdout 2021-08-24T11:51:17.675131:TR=2000.00, TE=0.00, TI=0.00, flip angle=0.00\n",
      "210824-11:51:17,676 nipype.interface INFO:\n",
      "\t stdout 2021-08-24T11:51:17.675131:i_ras = (-1, -0, 0)\n",
      "210824-11:51:17,676 nipype.interface INFO:\n",
      "\t stdout 2021-08-24T11:51:17.675131:j_ras = (-0, -0.295708, -0.955278)\n",
      "210824-11:51:17,677 nipype.interface INFO:\n",
      "\t stdout 2021-08-24T11:51:17.675131:k_ras = (-0, -0.955278, 0.295708)\n",
      "210824-11:51:17,678 nipype.interface INFO:\n",
      "\t stdout 2021-08-24T11:51:17.675131:Changing orientation information to Sphinx\n",
      "210824-11:51:17,678 nipype.interface INFO:\n",
      "\t stdout 2021-08-24T11:51:17.675131:writing to /Volumes/bc7/users/duffieldsj/fMRI/20100131Castor/MION/007/f.nii...\n"
     ]
    },
    {
     "data": {
      "text/plain": [
       "[]"
      ]
     },
     "execution_count": 20,
     "metadata": {},
     "output_type": "execute_result"
    }
   ],
   "source": [
    "pp.convert_to_sphinx(run_Dirs,[]) # Command wants an empty list if it keeps the same directory structure"
   ]
  },
  {
   "cell_type": "code",
   "execution_count": 5,
   "metadata": {},
   "outputs": [
    {
     "name": "stderr",
     "output_type": "stream",
     "text": [
      "/Users/duffieldsj/Documents/GitHub/monkey_fmri/preprocess.py:118: UserWarning: Matplotlib is currently using module://ipykernel.pylab.backend_inline, which is a non-GUI backend, so cannot show the figure.\n",
      "  fig.show()\n",
      "The PostScript backend does not support transparency; partially transparent artists will be rendered opaque.\n",
      "The PostScript backend does not support transparency; partially transparent artists will be rendered opaque.\n"
     ]
    },
    {
     "data": {
      "text/plain": [
       "[[<nipype.interfaces.base.support.InterfaceResult at 0x7f8720810e20>],\n",
       " [<nipype.interfaces.base.support.InterfaceResult at 0x7f8720810fd0>],\n",
       " [<nipype.interfaces.base.support.InterfaceResult at 0x7f8720810940>],\n",
       " [<nipype.interfaces.base.support.InterfaceResult at 0x7f8720810520>],\n",
       " [<nipype.interfaces.base.support.InterfaceResult at 0x7f8720810700>],\n",
       " [<nipype.interfaces.base.support.InterfaceResult at 0x7f86f1f64be0>],\n",
       " [<nipype.interfaces.base.support.InterfaceResult at 0x7f86f1f64d90>],\n",
       " [<nipype.interfaces.base.support.InterfaceResult at 0x7f86f1f64d30>],\n",
       " [<nipype.interfaces.base.support.InterfaceResult at 0x7f86f1f64730>],\n",
       " [<nipype.interfaces.base.support.InterfaceResult at 0x7f86f1f64ca0>],\n",
       " [<nipype.interfaces.base.support.InterfaceResult at 0x7f86f1f64970>],\n",
       " [<nipype.interfaces.base.support.InterfaceResult at 0x7f86f1f644f0>],\n",
       " [<nipype.interfaces.base.support.InterfaceResult at 0x7f86f1f64b50>]]"
      ]
     },
     "execution_count": 5,
     "metadata": {},
     "output_type": "execute_result"
    }
   ],
   "source": [
    "pp.motion_correction(run_Dirs,[],'f_sphinx.nii')"
   ]
  },
  {
   "cell_type": "code",
   "execution_count": 39,
   "metadata": {},
   "outputs": [
    {
     "data": {
      "text/plain": [
       "['f_sphinx.nii',\n",
       " '._f_sphinx.nii',\n",
       " 'moco.nii.gz_abs.rms',\n",
       " 'moco.nii.gz',\n",
       " 'moco.nii.gz_abs_mean.rms',\n",
       " 'f-infodump.dat',\n",
       " 'moco.nii.gz_rel.rms',\n",
       " 'moco.nii.gz.mat',\n",
       " 'moco.nii.gz.par',\n",
       " 'moco.nii.gz_rel_mean.rms']"
      ]
     },
     "execution_count": 39,
     "metadata": {},
     "output_type": "execute_result"
    }
   ],
   "source": [
    "os.listdir(run_Dirs[8])"
   ]
  }
 ],
 "metadata": {
  "kernelspec": {
   "display_name": "Python 3",
   "language": "python",
   "name": "python3"
  },
  "language_info": {
   "codemirror_mode": {
    "name": "ipython",
    "version": 3
   },
   "file_extension": ".py",
   "mimetype": "text/x-python",
   "name": "python",
   "nbconvert_exporter": "python",
   "pygments_lexer": "ipython3",
   "version": "3.8.8"
  }
 },
 "nbformat": 4,
 "nbformat_minor": 4
}
